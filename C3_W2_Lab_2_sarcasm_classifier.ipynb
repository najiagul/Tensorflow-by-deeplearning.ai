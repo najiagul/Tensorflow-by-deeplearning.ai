{
  "nbformat": 4,
  "nbformat_minor": 0,
  "metadata": {
    "accelerator": "GPU",
    "colab": {
      "name": "C3_W2_Lab_2_sarcasm_classifier.ipynb",
      "provenance": [],
      "collapsed_sections": []
    },
    "kernelspec": {
      "name": "python3",
      "display_name": "Python 3"
    },
    "language_info": {
      "name": "python"
    }
  },
  "cells": [
    {
      "cell_type": "code",
      "metadata": {
        "id": "zX4Kg8DUTKWO"
      },
      "source": [
        "#@title Licensed under the Apache License, Version 2.0 (the \"License\");\n",
        "# you may not use this file except in compliance with the License.\n",
        "# You may obtain a copy of the License at\n",
        "#\n",
        "# https://www.apache.org/licenses/LICENSE-2.0\n",
        "#\n",
        "# Unless required by applicable law or agreed to in writing, software\n",
        "# distributed under the License is distributed on an \"AS IS\" BASIS,\n",
        "# WITHOUT WARRANTIES OR CONDITIONS OF ANY KIND, either express or implied.\n",
        "# See the License for the specific language governing permissions and\n",
        "# limitations under the License."
      ],
      "execution_count": null,
      "outputs": []
    },
    {
      "cell_type": "markdown",
      "metadata": {
        "id": "DblSKtgISM2d"
      },
      "source": [
        "**Note:** This notebook can run using TensorFlow 2.5.0"
      ]
    },
    {
      "cell_type": "code",
      "metadata": {
        "id": "4gs9htvM7n_x"
      },
      "source": [
        "#!pip install tensorflow==2.5.0"
      ],
      "execution_count": null,
      "outputs": []
    },
    {
      "cell_type": "code",
      "metadata": {
        "id": "XYYDvoskkE61"
      },
      "source": [
        "import json\n",
        "import tensorflow as tf\n",
        "\n",
        "from tensorflow.keras.preprocessing.text import Tokenizer\n",
        "from tensorflow.keras.preprocessing.sequence import pad_sequences"
      ],
      "execution_count": 1,
      "outputs": []
    },
    {
      "cell_type": "code",
      "metadata": {
        "id": "0eJSTTYnkJQd"
      },
      "source": [
        "vocab_size = 10000\n",
        "embedding_dim = 16\n",
        "max_length = 100\n",
        "trunc_type='post'\n",
        "padding_type='post'\n",
        "oov_tok = \"<OOV>\"\n",
        "training_size = 20000\n"
      ],
      "execution_count": 2,
      "outputs": []
    },
    {
      "cell_type": "code",
      "metadata": {
        "id": "BQVuQrZNkPn9",
        "outputId": "c42697d4-ec21-4871-f030-d59812cd4f1b",
        "colab": {
          "base_uri": "https://localhost:8080/"
        }
      },
      "source": [
        "# sarcasm.json\n",
        "!gdown --id 1xRU3xY5-tkiPGvlz5xBJ18_pHWSRzI4v"
      ],
      "execution_count": 3,
      "outputs": [
        {
          "output_type": "stream",
          "name": "stdout",
          "text": [
            "Downloading...\n",
            "From: https://drive.google.com/uc?id=1xRU3xY5-tkiPGvlz5xBJ18_pHWSRzI4v\n",
            "To: /content/sarcasm.json\n",
            "100% 5.64M/5.64M [00:00<00:00, 26.4MB/s]\n"
          ]
        }
      ]
    },
    {
      "cell_type": "code",
      "metadata": {
        "id": "oaLaaqhNkUPd"
      },
      "source": [
        "with open(\"./sarcasm.json\", 'r') as f:\n",
        "    datastore = json.load(f)\n",
        "\n",
        "sentences = []\n",
        "labels = []\n",
        "\n",
        "for item in datastore:\n",
        "    sentences.append(item['headline'])\n",
        "    labels.append(item['is_sarcastic'])"
      ],
      "execution_count": 4,
      "outputs": []
    },
    {
      "cell_type": "code",
      "metadata": {
        "id": "S1sD-7v0kYWk"
      },
      "source": [
        "training_sentences = sentences[0:training_size]\n",
        "testing_sentences = sentences[training_size:]\n",
        "training_labels = labels[0:training_size]\n",
        "testing_labels = labels[training_size:]"
      ],
      "execution_count": 5,
      "outputs": []
    },
    {
      "cell_type": "code",
      "metadata": {
        "id": "3u8UB0MCkZ5N"
      },
      "source": [
        "tokenizer = Tokenizer(num_words=vocab_size, oov_token=oov_tok)\n",
        "tokenizer.fit_on_texts(training_sentences)\n",
        "\n",
        "word_index = tokenizer.word_index\n",
        "\n",
        "training_sequences = tokenizer.texts_to_sequences(training_sentences)\n",
        "training_padded = pad_sequences(training_sequences, maxlen=max_length, padding=padding_type, truncating=trunc_type)\n",
        "\n",
        "testing_sequences = tokenizer.texts_to_sequences(testing_sentences)\n",
        "testing_padded = pad_sequences(testing_sequences, maxlen=max_length, padding=padding_type, truncating=trunc_type)"
      ],
      "execution_count": 6,
      "outputs": []
    },
    {
      "cell_type": "code",
      "metadata": {
        "id": "GrAlWBKf99Ya"
      },
      "source": [
        "# Need this block to get it to work with TensorFlow 2.x\n",
        "import numpy as np\n",
        "training_padded = np.array(training_padded)\n",
        "training_labels = np.array(training_labels)\n",
        "testing_padded = np.array(testing_padded)\n",
        "testing_labels = np.array(testing_labels)"
      ],
      "execution_count": 7,
      "outputs": []
    },
    {
      "cell_type": "code",
      "metadata": {
        "id": "FufaT4vlkiDE"
      },
      "source": [
        "model = tf.keras.Sequential([\n",
        "    tf.keras.layers.Embedding(vocab_size, embedding_dim, input_length=max_length),\n",
        "    tf.keras.layers.GlobalAveragePooling1D(),\n",
        "    tf.keras.layers.Dense(24, activation='relu'),\n",
        "    tf.keras.layers.Dense(1, activation='sigmoid')\n",
        "])\n",
        "model.compile(loss='binary_crossentropy',optimizer='adam',metrics=['accuracy'])"
      ],
      "execution_count": 8,
      "outputs": []
    },
    {
      "cell_type": "code",
      "metadata": {
        "id": "XfDt1hmYkiys",
        "outputId": "6d2cf959-8e1c-4439-f1df-055fa9b400fb",
        "colab": {
          "base_uri": "https://localhost:8080/"
        }
      },
      "source": [
        "model.summary()\n"
      ],
      "execution_count": 9,
      "outputs": [
        {
          "output_type": "stream",
          "name": "stdout",
          "text": [
            "Model: \"sequential\"\n",
            "_________________________________________________________________\n",
            "Layer (type)                 Output Shape              Param #   \n",
            "=================================================================\n",
            "embedding (Embedding)        (None, 100, 16)           160000    \n",
            "_________________________________________________________________\n",
            "global_average_pooling1d (Gl (None, 16)                0         \n",
            "_________________________________________________________________\n",
            "dense (Dense)                (None, 24)                408       \n",
            "_________________________________________________________________\n",
            "dense_1 (Dense)              (None, 1)                 25        \n",
            "=================================================================\n",
            "Total params: 160,433\n",
            "Trainable params: 160,433\n",
            "Non-trainable params: 0\n",
            "_________________________________________________________________\n"
          ]
        }
      ]
    },
    {
      "cell_type": "code",
      "metadata": {
        "id": "2DTKQFf1kkyc",
        "outputId": "61ee35d8-9414-4fd7-82d2-1416af54b071",
        "colab": {
          "base_uri": "https://localhost:8080/"
        }
      },
      "source": [
        "num_epochs = 30\n",
        "history = model.fit(training_padded, training_labels, epochs=num_epochs, validation_data=(testing_padded, testing_labels), verbose=2)"
      ],
      "execution_count": 10,
      "outputs": [
        {
          "output_type": "stream",
          "name": "stdout",
          "text": [
            "Epoch 1/30\n",
            "625/625 - 6s - loss: 0.6686 - accuracy: 0.5770 - val_loss: 0.5978 - val_accuracy: 0.6730\n",
            "Epoch 2/30\n",
            "625/625 - 3s - loss: 0.4444 - accuracy: 0.8239 - val_loss: 0.4002 - val_accuracy: 0.8228\n",
            "Epoch 3/30\n",
            "625/625 - 3s - loss: 0.3178 - accuracy: 0.8752 - val_loss: 0.3556 - val_accuracy: 0.8521\n",
            "Epoch 4/30\n",
            "625/625 - 3s - loss: 0.2670 - accuracy: 0.8964 - val_loss: 0.3577 - val_accuracy: 0.8402\n",
            "Epoch 5/30\n",
            "625/625 - 3s - loss: 0.2308 - accuracy: 0.9121 - val_loss: 0.3535 - val_accuracy: 0.8505\n",
            "Epoch 6/30\n",
            "625/625 - 3s - loss: 0.2034 - accuracy: 0.9228 - val_loss: 0.3481 - val_accuracy: 0.8532\n",
            "Epoch 7/30\n",
            "625/625 - 3s - loss: 0.1809 - accuracy: 0.9321 - val_loss: 0.3553 - val_accuracy: 0.8551\n",
            "Epoch 8/30\n",
            "625/625 - 2s - loss: 0.1624 - accuracy: 0.9410 - val_loss: 0.3758 - val_accuracy: 0.8504\n",
            "Epoch 9/30\n",
            "625/625 - 3s - loss: 0.1480 - accuracy: 0.9460 - val_loss: 0.3871 - val_accuracy: 0.8506\n",
            "Epoch 10/30\n",
            "625/625 - 3s - loss: 0.1348 - accuracy: 0.9522 - val_loss: 0.4002 - val_accuracy: 0.8505\n",
            "Epoch 11/30\n",
            "625/625 - 3s - loss: 0.1236 - accuracy: 0.9567 - val_loss: 0.4172 - val_accuracy: 0.8508\n",
            "Epoch 12/30\n",
            "625/625 - 3s - loss: 0.1126 - accuracy: 0.9614 - val_loss: 0.4432 - val_accuracy: 0.8441\n",
            "Epoch 13/30\n",
            "625/625 - 2s - loss: 0.1032 - accuracy: 0.9665 - val_loss: 0.4656 - val_accuracy: 0.8433\n",
            "Epoch 14/30\n",
            "625/625 - 2s - loss: 0.0955 - accuracy: 0.9675 - val_loss: 0.4807 - val_accuracy: 0.8439\n",
            "Epoch 15/30\n",
            "625/625 - 3s - loss: 0.0882 - accuracy: 0.9719 - val_loss: 0.5060 - val_accuracy: 0.8401\n",
            "Epoch 16/30\n",
            "625/625 - 3s - loss: 0.0798 - accuracy: 0.9743 - val_loss: 0.5350 - val_accuracy: 0.8386\n",
            "Epoch 17/30\n",
            "625/625 - 3s - loss: 0.0742 - accuracy: 0.9759 - val_loss: 0.5718 - val_accuracy: 0.8365\n",
            "Epoch 18/30\n",
            "625/625 - 3s - loss: 0.0682 - accuracy: 0.9787 - val_loss: 0.5899 - val_accuracy: 0.8334\n",
            "Epoch 19/30\n",
            "625/625 - 2s - loss: 0.0642 - accuracy: 0.9805 - val_loss: 0.6213 - val_accuracy: 0.8311\n",
            "Epoch 20/30\n",
            "625/625 - 3s - loss: 0.0580 - accuracy: 0.9822 - val_loss: 0.6535 - val_accuracy: 0.8290\n",
            "Epoch 21/30\n",
            "625/625 - 3s - loss: 0.0558 - accuracy: 0.9823 - val_loss: 0.6813 - val_accuracy: 0.8281\n",
            "Epoch 22/30\n",
            "625/625 - 3s - loss: 0.0500 - accuracy: 0.9852 - val_loss: 0.7369 - val_accuracy: 0.8253\n",
            "Epoch 23/30\n",
            "625/625 - 3s - loss: 0.0466 - accuracy: 0.9855 - val_loss: 0.8005 - val_accuracy: 0.8213\n",
            "Epoch 24/30\n",
            "625/625 - 3s - loss: 0.0436 - accuracy: 0.9876 - val_loss: 0.7855 - val_accuracy: 0.8231\n",
            "Epoch 25/30\n",
            "625/625 - 3s - loss: 0.0396 - accuracy: 0.9893 - val_loss: 0.8123 - val_accuracy: 0.8220\n",
            "Epoch 26/30\n",
            "625/625 - 3s - loss: 0.0385 - accuracy: 0.9887 - val_loss: 0.9023 - val_accuracy: 0.8167\n",
            "Epoch 27/30\n",
            "625/625 - 3s - loss: 0.0345 - accuracy: 0.9907 - val_loss: 0.8848 - val_accuracy: 0.8179\n",
            "Epoch 28/30\n",
            "625/625 - 3s - loss: 0.0330 - accuracy: 0.9906 - val_loss: 0.9245 - val_accuracy: 0.8152\n",
            "Epoch 29/30\n",
            "625/625 - 3s - loss: 0.0312 - accuracy: 0.9912 - val_loss: 0.9687 - val_accuracy: 0.8155\n",
            "Epoch 30/30\n",
            "625/625 - 2s - loss: 0.0291 - accuracy: 0.9918 - val_loss: 0.9888 - val_accuracy: 0.8165\n"
          ]
        }
      ]
    },
    {
      "cell_type": "code",
      "metadata": {
        "id": "2HYfBKXjkmU8",
        "outputId": "830b11b0-e7af-41ed-8fe4-7f72e5809d69",
        "colab": {
          "base_uri": "https://localhost:8080/",
          "height": 541
        }
      },
      "source": [
        "import matplotlib.pyplot as plt\n",
        "\n",
        "\n",
        "def plot_graphs(history, string):\n",
        "  plt.plot(history.history[string])\n",
        "  plt.plot(history.history['val_'+string])\n",
        "  plt.xlabel(\"Epochs\")\n",
        "  plt.ylabel(string)\n",
        "  plt.legend([string, 'val_'+string])\n",
        "  plt.show()\n",
        "  \n",
        "plot_graphs(history, \"accuracy\")\n",
        "plot_graphs(history, \"loss\")"
      ],
      "execution_count": 11,
      "outputs": [
        {
          "output_type": "display_data",
          "data": {
            "image/png": "[encoded data removed]",
            "text/plain": [
              "<Figure size 432x288 with 1 Axes>"
            ]
          },
          "metadata": {
            "needs_background": "light"
          }
        },
        {
          "output_type": "display_data",
          "data": {
            "image/png": "[encoded data removed]",
            "text/plain": [
              "<Figure size 432x288 with 1 Axes>"
            ]
          },
          "metadata": {
            "needs_background": "light"
          }
        }
      ]
    },
    {
      "cell_type": "code",
      "metadata": {
        "id": "7SBdAZAenvzL",
        "outputId": "565ce707-5a03-4d4c-f3dc-5df31acfe195",
        "colab": {
          "base_uri": "https://localhost:8080/"
        }
      },
      "source": [
        "reverse_word_index = dict([(value, key) for (key, value) in word_index.items()])\n",
        "\n",
        "def decode_sentence(text):\n",
        "    return ' '.join([reverse_word_index.get(i, '?') for i in text])\n",
        "\n",
        "print(decode_sentence(training_padded[0]))\n",
        "print(training_sentences[2])\n",
        "print(labels[2])"
      ],
      "execution_count": 12,
      "outputs": [
        {
          "output_type": "stream",
          "name": "stdout",
          "text": [
            "former <OOV> store clerk sues over secret 'black <OOV> for minority shoppers ? ? ? ? ? ? ? ? ? ? ? ? ? ? ? ? ? ? ? ? ? ? ? ? ? ? ? ? ? ? ? ? ? ? ? ? ? ? ? ? ? ? ? ? ? ? ? ? ? ? ? ? ? ? ? ? ? ? ? ? ? ? ? ? ? ? ? ? ? ? ? ? ? ? ? ? ? ? ? ? ? ? ? ? ? ? ? ?\n",
            "mom starting to fear son's web series closest thing she will have to grandchild\n",
            "1\n"
          ]
        }
      ]
    },
    {
      "cell_type": "code",
      "metadata": {
        "id": "c9MqihtEkzQ9"
      },
      "source": [
        "e = model.layers[0]\n",
        "weights = e.get_weights()[0]\n",
        "print(weights.shape) # shape: (vocab_size, embedding_dim)\n"
      ],
      "execution_count": null,
      "outputs": []
    },
    {
      "cell_type": "code",
      "metadata": {
        "id": "LoBXVffknldU"
      },
      "source": [
        "import io\n",
        "\n",
        "out_v = io.open('vecs.tsv', 'w', encoding='utf-8')\n",
        "out_m = io.open('meta.tsv', 'w', encoding='utf-8')\n",
        "for word_num in range(1, vocab_size):\n",
        "  word = reverse_word_index[word_num]\n",
        "  embeddings = weights[word_num]\n",
        "  out_m.write(word + \"\\n\")\n",
        "  out_v.write('\\t'.join([str(x) for x in embeddings]) + \"\\n\")\n",
        "out_v.close()\n",
        "out_m.close()"
      ],
      "execution_count": null,
      "outputs": []
    },
    {
      "cell_type": "code",
      "metadata": {
        "id": "U4eZ5HtVnnEE"
      },
      "source": [
        "try:\n",
        "  from google.colab import files\n",
        "except ImportError:\n",
        "  pass\n",
        "else:\n",
        "  files.download('vecs.tsv')\n",
        "  files.download('meta.tsv')"
      ],
      "execution_count": null,
      "outputs": []
    },
    {
      "cell_type": "code",
      "metadata": {
        "id": "cG8-ArY-qDcz",
        "outputId": "80a6cd08-038e-4326-9d5f-f511552d8cb2",
        "colab": {
          "base_uri": "https://localhost:8080/"
        }
      },
      "source": [
        "sentence = [\"granny starting to fear spiders in the garden might be real\", \"game of thrones season finale showing this sunday night\"]\n",
        "sequences = tokenizer.texts_to_sequences(sentence)\n",
        "padded = pad_sequences(sequences, maxlen=max_length, padding=padding_type, truncating=trunc_type)\n",
        "print(model.predict(padded))"
      ],
      "execution_count": 13,
      "outputs": [
        {
          "output_type": "stream",
          "name": "stdout",
          "text": [
            "[[9.3638420e-01]\n",
            " [2.2963655e-05]]\n"
          ]
        }
      ]
    },
    {
      "cell_type": "code",
      "metadata": {
        "id": "xPFObL3nSM2m"
      },
      "source": [
        ""
      ],
      "execution_count": null,
      "outputs": []
    }
  ]
}